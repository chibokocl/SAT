{
 "cells": [
  {
   "cell_type": "code",
   "execution_count": null,
   "id": "24a8c306",
   "metadata": {},
   "outputs": [],
   "source": [
    "import pandas as pd\n",
    "from sklearn.model_selection import train_test_split\n",
    "from sklearn.feature_extraction.text import CountVectorizer\n",
    "from sklearn.metrics import classification_report\n",
    "\n",
    "# Read the CSV files\n",
    "train_csv = 'first_csv.csv'\n",
    "test_csv = 'second_csv.csv'\n",
    "train_df = pd.read_csv(r'C:\\Users\\SURFACE\\Downloads\\train.csv')\n",
    "test_df = pd.read_csv(r'C:\\Users\\SURFACE\\Downloads\\test.csv')\n",
    "\n",
    "# Split the training data into training and validation sets\n",
    "X_train, X_val, y_train, y_val = train_test_split(train_df['text'], train_df['sentiment'], test_size=0.2, random_state=42)\n",
    "\n",
    "# Vectorize the text data\n",
    "vectorizer = CountVectorizer()\n",
    "X_train_vec = vectorizer.fit_transform(X_train)\n",
    "X_val_vec = vectorizer.transform(X_val)\n"
   ]
  },
  {
   "cell_type": "code",
   "execution_count": null,
   "id": "912350d2",
   "metadata": {},
   "outputs": [],
   "source": [
    "from sklearn.linear_model import LogisticRegression\n",
    "\n",
    "# Train a logistic regression model\n",
    "model = LogisticRegression()\n",
    "model.fit(X_train_vec, y_train)\n"
   ]
  },
  {
   "cell_type": "code",
   "execution_count": null,
   "id": "3c3ba005",
   "metadata": {},
   "outputs": [],
   "source": [
    "# Evaluate the model\n",
    "y_val_pred = model.predict(X_val_vec)\n",
    "print(classification_report(y_val, y_val_pred))\n"
   ]
  },
  {
   "cell_type": "code",
   "execution_count": null,
   "id": "71e52456",
   "metadata": {},
   "outputs": [],
   "source": [
    "print(test_df.head())\n"
   ]
  },
  {
   "cell_type": "code",
   "execution_count": null,
   "id": "0447fe18",
   "metadata": {},
   "outputs": [],
   "source": [
    "# Predict sentiment for the second CSV\n",
    "X_test = test_df['Text']\n",
    "X_test_vec = vectorizer.transform(X_test)\n",
    "test_df['predicted_sentiment'] = model.predict(X_test_vec)\n",
    "\n",
    "# Save the predictions to a new CSV\n",
    "test_df.to_csv('predictions.csv', index=False)\n"
   ]
  },
  {
   "cell_type": "code",
   "execution_count": null,
   "id": "5bc39996",
   "metadata": {},
   "outputs": [],
   "source": [
    "# Save the predictions to a new CSV in a specific directory (example path for Windows)\n",
    "test_df.to_csv('..............predictions.csv', index=False)\n",
    "\n"
   ]
  },
  {
   "cell_type": "code",
   "execution_count": null,
   "id": "010e14dd",
   "metadata": {},
   "outputs": [],
   "source": [
    "import matplotlib.pyplot as plt\n",
    "\n",
    "# Count the occurrences of each sentiment in the 'predicted_sentiment' column\n",
    "sentiment_counts = test_df['predicted_sentiment'].value_counts()\n",
    "\n",
    "# Create a bar plot of the sentiment distribution\n",
    "plt.figure(figsize=(10, 6))\n",
    "plt.bar(sentiment_counts.index, sentiment_counts.values)\n",
    "plt.xlabel('Sentiment')\n",
    "plt.ylabel('Frequency')\n",
    "plt.title('Sentiment Distribution in Predictions')\n",
    "plt.show()\n"
   ]
  }
 ],
 "metadata": {
  "kernelspec": {
   "display_name": "Python 3 (ipykernel)",
   "language": "python",
   "name": "python3"
  },
  "language_info": {
   "codemirror_mode": {
    "name": "ipython",
    "version": 3
   },
   "file_extension": ".py",
   "mimetype": "text/x-python",
   "name": "python",
   "nbconvert_exporter": "python",
   "pygments_lexer": "ipython3",
   "version": "3.9.12"
  }
 },
 "nbformat": 4,
 "nbformat_minor": 5
}
